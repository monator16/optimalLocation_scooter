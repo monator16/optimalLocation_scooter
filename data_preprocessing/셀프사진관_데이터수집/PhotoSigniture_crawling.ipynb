{
 "cells": [
  {
   "cell_type": "code",
   "execution_count": 1,
   "id": "d3113892",
   "metadata": {},
   "outputs": [
    {
     "name": "stdout",
     "output_type": "stream",
     "text": [
      "Requirement already satisfied: selenium in c:\\users\\youngseolee\\anaconda3\\lib\\site-packages (4.8.2)\n",
      "Requirement already satisfied: trio~=0.17 in c:\\users\\youngseolee\\anaconda3\\lib\\site-packages (from selenium) (0.22.0)\n",
      "Requirement already satisfied: certifi>=2021.10.8 in c:\\users\\youngseolee\\anaconda3\\lib\\site-packages (from selenium) (2021.10.8)\n",
      "Requirement already satisfied: trio-websocket~=0.9 in c:\\users\\youngseolee\\anaconda3\\lib\\site-packages (from selenium) (0.9.2)\n",
      "Requirement already satisfied: urllib3[socks]~=1.26 in c:\\users\\youngseolee\\anaconda3\\lib\\site-packages (from selenium) (1.26.9)\n",
      "Requirement already satisfied: exceptiongroup>=1.0.0rc9 in c:\\users\\youngseolee\\anaconda3\\lib\\site-packages (from trio~=0.17->selenium) (1.1.0)\n",
      "Requirement already satisfied: outcome in c:\\users\\youngseolee\\anaconda3\\lib\\site-packages (from trio~=0.17->selenium) (1.2.0)\n",
      "Requirement already satisfied: sortedcontainers in c:\\users\\youngseolee\\anaconda3\\lib\\site-packages (from trio~=0.17->selenium) (2.4.0)\n",
      "Requirement already satisfied: cffi>=1.14 in c:\\users\\youngseolee\\anaconda3\\lib\\site-packages (from trio~=0.17->selenium) (1.15.0)\n",
      "Requirement already satisfied: idna in c:\\users\\youngseolee\\anaconda3\\lib\\site-packages (from trio~=0.17->selenium) (3.3)\n",
      "Requirement already satisfied: attrs>=19.2.0 in c:\\users\\youngseolee\\anaconda3\\lib\\site-packages (from trio~=0.17->selenium) (21.4.0)\n",
      "Requirement already satisfied: async-generator>=1.9 in c:\\users\\youngseolee\\anaconda3\\lib\\site-packages (from trio~=0.17->selenium) (1.10)\n",
      "Requirement already satisfied: sniffio in c:\\users\\youngseolee\\anaconda3\\lib\\site-packages (from trio~=0.17->selenium) (1.2.0)\n",
      "Requirement already satisfied: pycparser in c:\\users\\youngseolee\\anaconda3\\lib\\site-packages (from cffi>=1.14->trio~=0.17->selenium) (2.21)\n",
      "Requirement already satisfied: wsproto>=0.14 in c:\\users\\youngseolee\\anaconda3\\lib\\site-packages (from trio-websocket~=0.9->selenium) (1.2.0)\n",
      "Requirement already satisfied: PySocks!=1.5.7,<2.0,>=1.5.6 in c:\\users\\youngseolee\\anaconda3\\lib\\site-packages (from urllib3[socks]~=1.26->selenium) (1.7.1)\n",
      "Requirement already satisfied: h11<1,>=0.9.0 in c:\\users\\youngseolee\\anaconda3\\lib\\site-packages (from wsproto>=0.14->trio-websocket~=0.9->selenium) (0.14.0)\n"
     ]
    }
   ],
   "source": [
    "!pip install selenium"
   ]
  },
  {
   "cell_type": "code",
   "execution_count": 2,
   "id": "43ebf590",
   "metadata": {},
   "outputs": [],
   "source": [
    "from selenium import webdriver "
   ]
  },
  {
   "cell_type": "code",
   "execution_count": 3,
   "id": "ab4b9b7a",
   "metadata": {},
   "outputs": [
    {
     "name": "stdout",
     "output_type": "stream",
     "text": [
      "Requirement already satisfied: webdriver_manager in c:\\users\\youngseolee\\anaconda3\\lib\\site-packages (3.8.5)\n",
      "Requirement already satisfied: python-dotenv in c:\\users\\youngseolee\\anaconda3\\lib\\site-packages (from webdriver_manager) (1.0.0)\n",
      "Requirement already satisfied: packaging in c:\\users\\youngseolee\\anaconda3\\lib\\site-packages (from webdriver_manager) (21.3)\n",
      "Requirement already satisfied: tqdm in c:\\users\\youngseolee\\anaconda3\\lib\\site-packages (from webdriver_manager) (4.64.0)\n",
      "Requirement already satisfied: requests in c:\\users\\youngseolee\\anaconda3\\lib\\site-packages (from webdriver_manager) (2.27.1)\n",
      "Requirement already satisfied: pyparsing!=3.0.5,>=2.0.2 in c:\\users\\youngseolee\\anaconda3\\lib\\site-packages (from packaging->webdriver_manager) (3.0.4)\n",
      "Requirement already satisfied: urllib3<1.27,>=1.21.1 in c:\\users\\youngseolee\\anaconda3\\lib\\site-packages (from requests->webdriver_manager) (1.26.9)\n",
      "Requirement already satisfied: charset-normalizer~=2.0.0 in c:\\users\\youngseolee\\anaconda3\\lib\\site-packages (from requests->webdriver_manager) (2.0.4)\n",
      "Requirement already satisfied: idna<4,>=2.5 in c:\\users\\youngseolee\\anaconda3\\lib\\site-packages (from requests->webdriver_manager) (3.3)\n",
      "Requirement already satisfied: certifi>=2017.4.17 in c:\\users\\youngseolee\\anaconda3\\lib\\site-packages (from requests->webdriver_manager) (2021.10.8)\n",
      "Requirement already satisfied: colorama in c:\\users\\youngseolee\\anaconda3\\lib\\site-packages (from tqdm->webdriver_manager) (0.4.4)\n"
     ]
    }
   ],
   "source": [
    "!pip install webdriver_manager"
   ]
  },
  {
   "cell_type": "code",
   "execution_count": 18,
   "id": "778ca002",
   "metadata": {},
   "outputs": [],
   "source": [
    "import pandas as pd\n",
    "import numpy as np\n",
    "import requests \n",
    "from bs4 import BeautifulSoup #크롤링한 정보를 파싱하고 정리하기 위한 모듈.\n",
    "from selenium import webdriver\n",
    "from webdriver_manager.chrome import ChromeDriverManager\n",
    "from selenium.webdriver.common.by import By\n",
    "from selenium.webdriver.common.keys import Keys\n",
    "from tqdm import tqdm #시간별 진행상황을 보기 위한 모듈\n",
    "import re #정규식\n",
    "import os\n",
    "from urllib import request\n",
    "from urllib.error import HTTPError\n",
    "import time \n",
    "from time import sleep\n",
    "import matplotlib.pyplot as plt \n",
    "import seaborn as sns \n",
    "import warnings \n",
    "warnings.filterwarnings(\"ignore\")\n",
    "import random"
   ]
  },
  {
   "cell_type": "code",
   "execution_count": 63,
   "id": "17451392",
   "metadata": {},
   "outputs": [],
   "source": [
    "#webdriver는 링크에서 다운 받아온당\n",
    "driver = webdriver.Chrome(executable_path = \"C:/Users/youngseolee/Desktop/대학생활/2023 딥 다이브/MLWIKI/Chromedriver_win32/chromedriver.exe\")"
   ]
  },
  {
   "cell_type": "code",
   "execution_count": 64,
   "id": "2de52a2d",
   "metadata": {},
   "outputs": [],
   "source": [
    "main_url = \"http://photosignature.co.kr/new/sub5.html\"\n",
    "driver.get(main_url)"
   ]
  },
  {
   "cell_type": "code",
   "execution_count": 65,
   "id": "60b0fb19",
   "metadata": {},
   "outputs": [],
   "source": [
    "content = driver.find_element(By.TAG_NAME,\"iframe\")\n",
    "driver.switch_to.frame(content)"
   ]
  },
  {
   "cell_type": "code",
   "execution_count": 66,
   "id": "0afc0a64",
   "metadata": {},
   "outputs": [],
   "source": [
    "driver.find_element(By.TAG_NAME, 'body').send_keys(Keys.PAGE_DOWN)"
   ]
  },
  {
   "cell_type": "code",
   "execution_count": 67,
   "id": "f79d515e",
   "metadata": {},
   "outputs": [],
   "source": [
    "seoul = driver.find_element(By.XPATH, '/html/body/div[1]/div[2]/table/tbody/tr/td/form/table/tbody/tr/td[1]/span[1]')\n",
    "seoul.click()"
   ]
  },
  {
   "cell_type": "code",
   "execution_count": 68,
   "id": "23b86355",
   "metadata": {},
   "outputs": [],
   "source": [
    "seoull = driver.find_element(By.XPATH, '/html/body/div[2]/ul/li[10]')\n",
    "seoull.click()"
   ]
  },
  {
   "cell_type": "code",
   "execution_count": 69,
   "id": "fa5080cd",
   "metadata": {},
   "outputs": [],
   "source": [
    "driver.find_element(By.XPATH,\"/html/body/div[1]/div[2]/table/tbody/tr/td/form/table/tbody/tr/td[2]/input[2]\").click()"
   ]
  },
  {
   "cell_type": "code",
   "execution_count": 70,
   "id": "a6e27a79",
   "metadata": {},
   "outputs": [
    {
     "name": "stdout",
     "output_type": "stream",
     "text": [
      "1\n",
      "고덕점     주소 : 서울 강동구 동남로75길 19 1동 1층 4호\n",
      "\n",
      "   TEL :\n",
      "목동점     주소 : 서울 양천구 목동서로 389 제 1층 108호\n",
      "\n",
      "   TEL :\n",
      "암사점     주소 : 서울 강동구 상암로 42 101호\n",
      "\n",
      "   TEL :\n",
      "강남 2호점     주소 : 서울 강남구 강남대로102길 13 포토시그니처 강남2호점\n",
      "\n",
      "   TEL :\n",
      "신림점     주소 : 서울 관악구 남부순환로 1606 1층 포토시그니처 신림점\n",
      "\n",
      "   TEL :\n",
      "신정네거리점     주소 : 서울 양천구 중앙로 267 1층 1호\n",
      "\n",
      "   TEL :\n",
      "경희대점     주소 : 서울 동대문구 회기로 147 1층 포토시그니처\n",
      "\n",
      "   TEL :\n",
      "연신내점     주소 : 서울 은평구 연서로29길 5\n",
      "\n",
      "   TEL :\n",
      "2\n",
      "포토시그니처 강남서초점     주소 : 서울 서초구 서초대로77길 29 1층\n",
      "\n",
      "   TEL :\n",
      "덕수궁점     주소 : 서울 중구 덕수궁길 9 105호\n",
      "\n",
      "   TEL :\n",
      "서울종각지점     주소 : 서울 종로구 종로12길 15 내1층(관철동, 종로코아빌딩)\n",
      "\n",
      "   TEL :\n",
      "구의역점     주소 : 서울 광진구 자양로18길 15 1층 102호\n",
      "\n",
      "   TEL :\n",
      "서촌점     주소 : 서울 종로구 자하문로 15 1층\n",
      "\n",
      "   TEL :\n",
      "북촌한옥마을점     주소 : 서울 종로구 북촌로5길 45 1층 포토시그니처\n",
      "\n",
      "   TEL :\n",
      "소격동점     주소 : 서울 종로구 율곡로3길 73-1 1층 포토시그니처\n",
      "\n",
      "   TEL :\n",
      "문래점     주소 : 서울 영등포구 경인로79길 16 1층 포토시그니처 문래점\n",
      "\n",
      "   TEL :\n",
      "3\n",
      "서울 홍대1호점     주소 : 서울 마포구 어울마당로 86\n",
      "\n",
      "   TEL :\n",
      "성수동 카페거리점     주소 : 서울 성동구 연무장길 50\n",
      "\n",
      "   TEL :\n",
      "익선동 한옥거리점     주소 : 서울 종로구 수표로28길 17-6\n",
      "\n",
      "   TEL :\n",
      "서울 한남점     주소 : 서울 용산구 이태원로54길 58-13\n",
      "\n",
      "   TEL :\n",
      "서울 까치산역점     주소 : 서울 강서구 강서로13길 3\n",
      "\n",
      "   TEL :\n",
      "서울 연남점     주소 : 서울 마포구 양화로 191\n",
      "\n",
      "   TEL :\n",
      "서울 대학로점     주소 : 서울 종로구 대명길 37\n",
      "\n",
      "   TEL :\n",
      "서울 노원점     주소 : 서울 노원구 노해로81길 16\n",
      "\n",
      "   TEL :\n",
      "4\n",
      "노원 중계점     주소 : 서울 노원구 한글비석로 250 116호\n",
      "\n",
      "   TEL :\n",
      "서울 한양대점     주소 : 서울 성동구 마조로 21 106호\n",
      "\n",
      "   TEL :\n",
      "서울 가로수길점     주소 : 서울 강남구 강남대로154길 43 1층\n",
      "\n",
      "   TEL :\n",
      "송리단길점     주소 : 서울 송파구 백제고분로45길 11 102호\n",
      "\n",
      "   TEL :\n",
      "서울 천호점     주소 : 서울 강동구 천호대로157길 24 1층\n",
      "\n",
      "   TEL :\n",
      "서울 샤로수길점     주소 : 서울 관악구 봉천동 1604-22\n",
      "\n",
      "   TEL :\n",
      "서울 강남역1호점     주소 : 서울 강남구 봉은사로2길 35\n",
      "\n",
      "   TEL :\n",
      "홍대2호점     주소 : 서울 마포구 홍익로 20\n",
      "\n",
      "   TEL :\n"
     ]
    }
   ],
   "source": [
    "import csv\n",
    "file = open('photosigniture.csv', mode=\"w\", newline='')\n",
    "writer = csv.writer(file)\n",
    "writer.writerow([\"도로명주소\"])\n",
    "                \n",
    "for k in range (0,5):\n",
    "        if k == 0:\n",
    "            continue\n",
    "        print(k)\n",
    "        list = driver.find_element(By.XPATH, f'/html/body/nav/span/a[{k}]')\n",
    "        time.sleep(1)\n",
    "        list.send_keys(Keys.ENTER)\n",
    "        for i in range (2,6):\n",
    "        #이름\n",
    "            name = driver.find_element(By.XPATH, f'/html/body/div[1]/form/div[1]/table/tbody/tr[{i}]/td[1]/table/tbody/tr[2]/td/div/div[1]/span/a').text\n",
    "            #주소\n",
    "            address = driver.find_element(By.XPATH, f'/html/body/div[1]/form/div[1]/table/tbody/tr[{i}]/td[1]/table/tbody/tr[2]/td/div/div[2]').text\n",
    "\n",
    "            print(name, address)\n",
    "            writer.writerow([address])\n",
    "            time.sleep(3)\n",
    "            #이름\n",
    "            name = driver.find_element(By.XPATH, f'/html/body/div[1]/form/div[1]/table/tbody/tr[{i}]/td[2]/table/tbody/tr[2]/td/div/div[1]/span/a').text\n",
    "            #주소\n",
    "            address = driver.find_element(By.XPATH, f'/html/body/div[1]/form/div[1]/table/tbody/tr[{i}]/td[2]/table/tbody/tr[2]/td/div/div[2]').text\n",
    "            print(name, address)\n",
    "            writer.writerow([address])\n",
    "\n",
    "driver.switch_to.default_content() \n",
    "file.close()\n",
    "\n",
    "#텍스트컨테이너로 주소, tel이 같이 들어 있어서 일단 element로 뽑고 그냥 수동으로 지움 (방법 있는 거 같지만 귀찮아서)\n"
   ]
  },
  {
   "cell_type": "code",
   "execution_count": null,
   "id": "6a6bc135",
   "metadata": {},
   "outputs": [],
   "source": []
  }
 ],
 "metadata": {
  "kernelspec": {
   "display_name": "Python 3 (ipykernel)",
   "language": "python",
   "name": "python3"
  },
  "language_info": {
   "codemirror_mode": {
    "name": "ipython",
    "version": 3
   },
   "file_extension": ".py",
   "mimetype": "text/x-python",
   "name": "python",
   "nbconvert_exporter": "python",
   "pygments_lexer": "ipython3",
   "version": "3.9.12"
  }
 },
 "nbformat": 4,
 "nbformat_minor": 5
}
