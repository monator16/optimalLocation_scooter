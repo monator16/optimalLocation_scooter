{
 "cells": [
  {
   "cell_type": "code",
   "execution_count": 33,
   "id": "9d08af6d",
   "metadata": {},
   "outputs": [
    {
     "name": "stdout",
     "output_type": "stream",
     "text": [
      "Requirement already satisfied: selenium in c:\\users\\youngseolee\\anaconda3\\lib\\site-packages (4.8.2)\n",
      "Requirement already satisfied: certifi>=2021.10.8 in c:\\users\\youngseolee\\anaconda3\\lib\\site-packages (from selenium) (2021.10.8)\n",
      "Requirement already satisfied: trio~=0.17 in c:\\users\\youngseolee\\anaconda3\\lib\\site-packages (from selenium) (0.22.0)\n",
      "Requirement already satisfied: trio-websocket~=0.9 in c:\\users\\youngseolee\\anaconda3\\lib\\site-packages (from selenium) (0.9.2)\n",
      "Requirement already satisfied: urllib3[socks]~=1.26 in c:\\users\\youngseolee\\anaconda3\\lib\\site-packages (from selenium) (1.26.9)\n",
      "Requirement already satisfied: exceptiongroup>=1.0.0rc9 in c:\\users\\youngseolee\\anaconda3\\lib\\site-packages (from trio~=0.17->selenium) (1.1.0)\n",
      "Requirement already satisfied: attrs>=19.2.0 in c:\\users\\youngseolee\\anaconda3\\lib\\site-packages (from trio~=0.17->selenium) (21.4.0)\n",
      "Requirement already satisfied: async-generator>=1.9 in c:\\users\\youngseolee\\anaconda3\\lib\\site-packages (from trio~=0.17->selenium) (1.10)\n",
      "Requirement already satisfied: outcome in c:\\users\\youngseolee\\anaconda3\\lib\\site-packages (from trio~=0.17->selenium) (1.2.0)\n",
      "Requirement already satisfied: sortedcontainers in c:\\users\\youngseolee\\anaconda3\\lib\\site-packages (from trio~=0.17->selenium) (2.4.0)\n",
      "Requirement already satisfied: cffi>=1.14 in c:\\users\\youngseolee\\anaconda3\\lib\\site-packages (from trio~=0.17->selenium) (1.15.0)\n",
      "Requirement already satisfied: sniffio in c:\\users\\youngseolee\\anaconda3\\lib\\site-packages (from trio~=0.17->selenium) (1.2.0)\n",
      "Requirement already satisfied: idna in c:\\users\\youngseolee\\anaconda3\\lib\\site-packages (from trio~=0.17->selenium) (3.3)\n",
      "Requirement already satisfied: pycparser in c:\\users\\youngseolee\\anaconda3\\lib\\site-packages (from cffi>=1.14->trio~=0.17->selenium) (2.21)\n",
      "Requirement already satisfied: wsproto>=0.14 in c:\\users\\youngseolee\\anaconda3\\lib\\site-packages (from trio-websocket~=0.9->selenium) (1.2.0)\n",
      "Requirement already satisfied: PySocks!=1.5.7,<2.0,>=1.5.6 in c:\\users\\youngseolee\\anaconda3\\lib\\site-packages (from urllib3[socks]~=1.26->selenium) (1.7.1)\n",
      "Requirement already satisfied: h11<1,>=0.9.0 in c:\\users\\youngseolee\\anaconda3\\lib\\site-packages (from wsproto>=0.14->trio-websocket~=0.9->selenium) (0.14.0)\n"
     ]
    }
   ],
   "source": [
    "!pip install selenium"
   ]
  },
  {
   "cell_type": "code",
   "execution_count": 34,
   "id": "4b9e0c86",
   "metadata": {},
   "outputs": [],
   "source": [
    "from selenium import webdriver "
   ]
  },
  {
   "cell_type": "code",
   "execution_count": 35,
   "id": "3f331b64",
   "metadata": {},
   "outputs": [
    {
     "name": "stdout",
     "output_type": "stream",
     "text": [
      "Requirement already satisfied: webdriver_manager in c:\\users\\youngseolee\\anaconda3\\lib\\site-packages (3.8.5)\n",
      "Requirement already satisfied: packaging in c:\\users\\youngseolee\\anaconda3\\lib\\site-packages (from webdriver_manager) (21.3)\n",
      "Requirement already satisfied: python-dotenv in c:\\users\\youngseolee\\anaconda3\\lib\\site-packages (from webdriver_manager) (1.0.0)\n",
      "Requirement already satisfied: requests in c:\\users\\youngseolee\\anaconda3\\lib\\site-packages (from webdriver_manager) (2.27.1)\n",
      "Requirement already satisfied: tqdm in c:\\users\\youngseolee\\anaconda3\\lib\\site-packages (from webdriver_manager) (4.64.0)\n",
      "Requirement already satisfied: pyparsing!=3.0.5,>=2.0.2 in c:\\users\\youngseolee\\anaconda3\\lib\\site-packages (from packaging->webdriver_manager) (3.0.4)\n",
      "Requirement already satisfied: charset-normalizer~=2.0.0 in c:\\users\\youngseolee\\anaconda3\\lib\\site-packages (from requests->webdriver_manager) (2.0.4)\n",
      "Requirement already satisfied: urllib3<1.27,>=1.21.1 in c:\\users\\youngseolee\\anaconda3\\lib\\site-packages (from requests->webdriver_manager) (1.26.9)\n",
      "Requirement already satisfied: certifi>=2017.4.17 in c:\\users\\youngseolee\\anaconda3\\lib\\site-packages (from requests->webdriver_manager) (2021.10.8)\n",
      "Requirement already satisfied: idna<4,>=2.5 in c:\\users\\youngseolee\\anaconda3\\lib\\site-packages (from requests->webdriver_manager) (3.3)\n",
      "Requirement already satisfied: colorama in c:\\users\\youngseolee\\anaconda3\\lib\\site-packages (from tqdm->webdriver_manager) (0.4.4)\n"
     ]
    }
   ],
   "source": [
    "!pip install webdriver_manager"
   ]
  },
  {
   "cell_type": "code",
   "execution_count": 36,
   "id": "67a13a6c",
   "metadata": {},
   "outputs": [],
   "source": [
    "import pandas as pd\n",
    "import numpy as np\n",
    "import requests \n",
    "from bs4 import BeautifulSoup #크롤링한 정보를 파싱하고 정리하기 위한 모듈.\n",
    "from selenium import webdriver\n",
    "from webdriver_manager.chrome import ChromeDriverManager\n",
    "from selenium.webdriver.common.by import By\n",
    "from selenium.webdriver.common.keys import Keys\n",
    "from tqdm import tqdm #시간별 진행상황을 보기 위한 모듈\n",
    "import re #정규식\n",
    "import os\n",
    "from urllib import request\n",
    "from urllib.error import HTTPError\n",
    "import time \n",
    "from time import sleep\n",
    "import matplotlib.pyplot as plt \n",
    "import seaborn as sns \n",
    "import warnings \n",
    "warnings.filterwarnings(\"ignore\")\n",
    "import random"
   ]
  },
  {
   "cell_type": "code",
   "execution_count": 58,
   "id": "b088901b",
   "metadata": {},
   "outputs": [],
   "source": [
    "#webdriver는 링크에서 다운 받아온당\n",
    "driver = webdriver.Chrome(executable_path = \"C:/Users/youngseolee/Desktop/대학생활/2023 딥 다이브/MLWIKI/Chromedriver_win32/chromedriver.exe\")"
   ]
  },
  {
   "cell_type": "code",
   "execution_count": 59,
   "id": "29c7d239",
   "metadata": {},
   "outputs": [],
   "source": [
    "main_url = \"https://photoism.co.kr/279/?sort=TIME&keyword=%EC%84%9C%EC%9A%B8&keyword_type=all&page=true\"\n",
    "driver.get(main_url)"
   ]
  },
  {
   "cell_type": "code",
   "execution_count": 60,
   "id": "f0f188f4",
   "metadata": {},
   "outputs": [
    {
     "name": "stdout",
     "output_type": "stream",
     "text": [
      "2\n",
      "포토이즘 박스 종각점 서울특별시 종로구 우정국로2길 40\n",
      "포토이즘 박스 국민대점 서울특별시 성북구 정릉로10길 34\n",
      "포토이즘 박스 사당점 서울특별시 동작구 동작대로3길 20\n",
      "포토이즘 박스 동국대점 서울특별시 중구 서애로1길 11\n",
      "포토이즘 박스 서촌점 서울특별시 종로구 자하문로7길 7\n",
      "포토이즘 박스 안국점 서울특별시 종로구 계동길 60\n",
      "포토이즘 박스 사가정점 서울특별시 중랑구 면목로 341\n",
      "포토이즘 박스 영등포구청점 서울특별시 영등포구 당산로32길 3\n",
      "포토이즘 박스 숙명여대점 서울특별시 용산구 청파로43가길 33\n",
      "포토이즘 박스 문래점 서울특별시 영등포구 도림로131길 13\n",
      "3\n",
      "포토이즘 박스 용리단길점 서울특별시 용산구 한강대로52길 31\n",
      "포토이즘 박스 이대점 서울특별시 서대문구 이화여대길 42\n",
      "포토이즘 박스 고대안암점 서울특별시 성북구 고려대로26길 5\n",
      "포토이즘 박스 도산점 서울특별시 강남구 언주로170길 31 용원\n",
      "포토이즘 박스 서울종암점 서울특별시 성북구 종암로 98-4\n",
      "포토이즘 박스 여의도점 서울특별시 영등포구 여의나루로 117\n",
      "포토이즘 박스 종암점 서울특별시 성북구 종암로18길 3-4\n",
      "포토이즘 박스 대치점 서울특별시 강남구 도곡로78길 7\n",
      "포토이즘 박스 서울상봉점 서울특별시 중랑구 망우로 353 상봉 프레미어스 엠코\n",
      "포토이즘 박스 위례점 서울특별시 송파구 위례광장로 120\n",
      "4\n",
      "포토이즘 박스 홍대역점 서울특별시 마포구 양화로18길 15\n",
      "포토이즘 박스 중계은행사거리점 서울특별시 노원구 한글비석로 269\n",
      "포토이즘 박스 발산역점 서울특별시 강서구 마곡동로4길 23\n",
      "포토이즘 박스 이태원점 서울특별시 용산구 이태원로 166\n",
      "포토이즘 박스 미아사거리점 서울특별시 강북구 월계로3길 68\n",
      "포토이즘 박스 동양미래대학점 서울특별시 구로구 중앙로6길 48\n",
      "포토이즘 박스 목동점 서울특별시 양천구 목동서로 65\n",
      "포토이즘 박스 노량진점 서울특별시 동작구 노량진로16길 14\n",
      "포토이즘 박스 성수카페거리점 서울특별시 성동구 연무장길 37\n",
      "포토이즘 박스 잠실새내역점 서울특별시 송파구 백제고분로7길 32\n",
      "5\n",
      "포토이즘 박스 공릉점 서울특별시 노원구 동일로190길 67-5\n",
      "포토이즘 박스 시흥사거리점 서울특별시 금천구 시흥대로52길 24\n",
      "포토이즘 박스 강남2호점 서울특별시 서초구 서초대로77길 31\n",
      "포토이즘 박스 해방촌점 서울특별시 용산구 신흥로 31\n",
      "포토이즘 박스 한남점 서울특별시 용산구 이태원로54길 52\n",
      "포토이즘 박스 북촌점 서울특별시 종로구 삼청로 71-1\n",
      "포토이즘 박스 이수점 서울특별시 동작구 동작대로25길 11\n",
      "포토이즘 박스 마로니에점 서울특별시 종로구 대학로8가길 111\n",
      "포토이즘 박스 홍대어울림점 서울특별시 마포구 어울마당로 80\n",
      "포토이즘 박스 노원점 서울특별시 노원구 상계로 64\n",
      "6\n",
      "포토이즘 박스 샤로수길점 서울특별시 관악구 관악로14길 50\n",
      "포토이즘 박스 세종대점 서울특별시 광진구 동일로30길 51\n",
      "포토이즘 박스 영등포점 서울특별시 영등포구 영등포로50길 11\n",
      "포토이즘 박스 건대점 서울특별시 광진구 아차산로29길 7\n",
      "포토이즘 박스 우장산점 서울특별시 강서구 강서로45길 42\n",
      "포토이즘 박스 배곧신도시점 경기도 시흥시 서울대학로278번길 43-7\n",
      "포토이즘 박스 성수점 서울특별시 성동구 서울숲2길 17-2\n",
      "포토이즘 박스 송리단길점 서울특별시 송파구 백제고분로45길 23\n",
      "포토이즘 박스 신촌점 서울특별시 서대문구 명물길 26\n",
      "포토이즘 박스 경희대점 서울특별시 동대문구 회기로 171\n",
      "7\n",
      "2\n",
      "포토이즘 박스 망원점 서울특별시 마포구 포은로 88\n",
      "포토이즘 박스 연남점 서울특별시 마포구 동교로 230\n",
      "포토이즘 박스 레치키치점 서울특별시 마포구 신촌로2안길 2\n",
      "포토이즘 박스 압구정점 서울특별시 강남구 선릉로155길 21\n",
      "포토이즘 박스 연신내점 서울특별시 은평구 연서로29길 23\n",
      "포토이즘 박스 가로수길점 서울특별시 강남구 강남대로160길 50\n",
      "포토이즘 박스 신림점 서울특별시 관악구 신림로59길 10\n",
      "포토이즘 박스 인사동점 서울특별시 종로구 인사동길 52\n",
      "포토이즘 박스 마곡나루역점 서울특별시 강서구 마곡중앙5로 6 마곡나루역보타닉푸르지오시티\n",
      "포토이즘 박스 천호점 서울특별시 강동구 천호옛14길 23\n",
      "3\n",
      "포토이즘 박스 익선동점 서울특별시 종로구 돈화문로11나길 32\n",
      "포토이즘 박스 상수점 서울특별시 마포구 어울마당로 58\n",
      "포토이즘 박스 강남1호점 서울특별시 강남구 강남대로102길 16\n",
      "포토이즘 박스 수유점 서울특별시 강북구 도봉로87길 32\n",
      "포토이즘 박스 엔터식스점 서울특별시 성동구 왕십리광장로 17 왕십리민자역사\n",
      "포토이즘 박스 성신여대점 서울특별시 성북구 동소문로22길 36\n",
      "포토이즘 박스 혜화점 서울특별시 종로구 대명길 34\n"
     ]
    }
   ],
   "source": [
    "import csv\n",
    "file = open('photoism.csv', mode=\"w\", newline='')\n",
    "writer = csv.writer(file)\n",
    "writer.writerow([\"address\"])\n",
    "arr= [2,3,4,5,6,7,2,3]\n",
    "for k in arr:\n",
    "    print(k)\n",
    "    list = driver.find_element(By.XPATH, f'//*[@id=\"map_list_fold_b202207139aa9cbd453ce3\"]/div[1]/div[2]/nav/ul/li[{k}]/a')\n",
    "    list.send_keys(Keys.ENTER)\n",
    "    if k == 7:\n",
    "        continue\n",
    "    for i in range(2,12):\n",
    "        try:\n",
    "            # 이름\n",
    "            name = driver.find_element(By.XPATH, f\"/html/body/div[5]/main/div/div[2]/div/div/div/div[2]/div[1]/div[2]/div/div[{i}]/div/a[2]/div/div\").text\n",
    "            #주소\n",
    "            time.sleep(3)\n",
    "            address =driver.find_element(By.XPATH, f\"/html/body/div[5]/main/div/div[2]/div/div/div/div[2]/div[1]/div[2]/div/div[{i}]/div/div[1]/p[1]\").text\n",
    "            print(name, address)\n",
    "            writer.writerow([address])\n",
    "        except:\n",
    "            file.close()\n",
    "\n",
    "#     address =driver.find_element(By.XPATH, \"/html/body/div[5]/main/div/div[2]/div/div/div/div[2]/div[1]/div[2]/div/div[i]/div/div[1]/p[1]\").text\n"
   ]
  },
  {
   "cell_type": "code",
   "execution_count": null,
   "id": "ede26a52",
   "metadata": {},
   "outputs": [],
   "source": []
  },
  {
   "cell_type": "code",
   "execution_count": null,
   "id": "7bfc2e92",
   "metadata": {},
   "outputs": [],
   "source": []
  }
 ],
 "metadata": {
  "kernelspec": {
   "display_name": "Python 3 (ipykernel)",
   "language": "python",
   "name": "python3"
  },
  "language_info": {
   "codemirror_mode": {
    "name": "ipython",
    "version": 3
   },
   "file_extension": ".py",
   "mimetype": "text/x-python",
   "name": "python",
   "nbconvert_exporter": "python",
   "pygments_lexer": "ipython3",
   "version": "3.9.12"
  }
 },
 "nbformat": 4,
 "nbformat_minor": 5
}
